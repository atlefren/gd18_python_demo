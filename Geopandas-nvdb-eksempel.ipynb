{
 "cells": [
  {
   "cell_type": "markdown",
   "metadata": {},
   "source": [
    "# Bruk av geopandas med data fra NVDB og SSB\n",
    "\n",
    "Demo av hvordan geopandas kan brukes med data fra [Nasjonal vegdatabank](https://www.vegvesen.no/fag/teknologi/Nasjonal+vegdatabank) (NVDB) og [Statistisk Sentralbyrå](http://www.ssb.no/natur-og-miljo/geodata) (SSB). \n",
    "\n",
    "Vi ønsker å finne hvilke turistveger som går gjennom hvilke tettsteder - og hvilke trafikkulykker som er registrert der. \n",
    "\n",
    "Gangen er som følger: \n",
    "1. [Installasjon](installasjon.md) \n",
    "1. Last ned data over tettsteder fra [SSB](http://www.ssb.no/natur-og-miljo/geodata\n",
    "1. Last ned turistveger fra [NVDB api](https://www.vegvesen.no/nvdb/apidokumentasjon/)\n",
    "1. Finn snittet av turistveger og tettsteder (hvilke turistveger som går gjennom hvilke tettsteder)\n",
    "1. Last ned trafikkulykker på turistvegene  \n",
    "    1. Vi bruker NVDB api'ets [overlappfilter](https://www.vegvesen.no/nvdb/apidokumentasjon/#/parameter/overlappfilter)\n",
    "1. Finn snittet av trafikkulykker mot tettsteder med turistveger.\n"
   ]
  },
  {
   "cell_type": "markdown",
   "metadata": {},
   "source": [
    "## [Installasjon](installasjon.md) \n",
    "\n",
    "[Installasjon](installasjon.md) \n",
    "\n",
    "## Importer de bibliotekene som trengs"
   ]
  },
  {
   "cell_type": "code",
   "execution_count": 4,
   "metadata": {
    "collapsed": true
   },
   "outputs": [],
   "source": [
    "# Fine plott og sånn\n",
    "%matplotlib notebook \n",
    "import matplotlib.pylab as pylab\n",
    "import matplotlib.pyplot as plt\n",
    "\n",
    "\n",
    "# For nedlasting fra SSB\n",
    "import requests\n",
    "import zipfile\n",
    "import io\n",
    "import os\n",
    "\n",
    "# For å hente data fra NVDB api \n",
    "import nvdbapi      # Fra https://github.com/LtGlahn/nvdbapi-V2\n",
    "import nvdb2geojson # Fra https://github.com/LtGlahn/nvdbapi-V2\n",
    "\n",
    "# For datakverning og analyse\n",
    "import geopandas as gpd\n",
    "import pandas as pd\n"
   ]
  },
  {
   "cell_type": "markdown",
   "metadata": {},
   "source": [
    "\n",
    "# Last ned data fra SSB"
   ]
  },
  {
   "cell_type": "code",
   "execution_count": 5,
   "metadata": {},
   "outputs": [
    {
     "name": "stdout",
     "output_type": "stream",
     "text": [
      "Nedlasting feiler: 503 Service Unavailable\n"
     ]
    }
   ],
   "source": [
    "# Se https://stackoverflow.com/a/14260592 , det om python 3+\n",
    "\n",
    "url = 'http://www.ssb.no/natur-og-miljo/_attachment/286736?_ts=158d3354ee0'\n",
    "\n",
    "# Laster kun en gang: \n",
    "if not os.path.exists('Tettsted2016/Tettsted2016.shp'):\n",
    "    r = requests.get(url)\n",
    "    if r.ok: \n",
    "        z = zipfile.ZipFile(io.BytesIO(r.content))\n",
    "        z.extractall()\n",
    "    else: \n",
    "        print( \"Nedlasting feiler:\", r.status_code, r.reason )"
   ]
  },
  {
   "cell_type": "markdown",
   "metadata": {},
   "source": [
    "### Hent SSB-data manuelt \n",
    "\n",
    "Dette steget kan også gjøres manuelt. Direkte lenke for nedlasting av 2016-datasett er http://www.ssb.no/natur-og-miljo/_attachment/286736?_ts=158d3354ee0 \n",
    "\n",
    "*NB! Det vil ikke overraske meg om lenkeråte gjør at du uansett må inn på SSB og finne nedlastingslenker* \n",
    "\n",
    "#### Finn lenke til nedlasting på SSB's nettsider\n",
    "\n",
    "1. Gå inn på http://www.ssb.no/natur-og-miljo/geodata#Nedlasting_av_datasett_med_dynamiske_avgrensinger . \n",
    "1. Klikk på *Nedlasting av kart over tettsteder*. \n",
    "1. Klikk på det året du vil laste ned for. \n",
    "    1. Nedlasting skal starte automagisk... hvis ikke kan du prøve en annen nettleser, evt kopiere lenken og bruke verktøy som curl eller wget. \n",
    "1. Pakk ut zip-arkivet og legg mappen ```Tettsted2016``` sammen med øvrige filer (rotnivå i repos'et). Dvs at stien til shapefilen skal være ```Tettsted2016/Tettsted2016.shp```\n",
    "\n",
    "### Les tettsted inn i geodata-frame \n",
    "\n",
    "Vi leser tettstedene inn i geodata-frame og knar litt på dem. "
   ]
  },
  {
   "cell_type": "code",
   "execution_count": 6,
   "metadata": {},
   "outputs": [
    {
     "ename": "OSError",
     "evalue": "no such file or directory: 'Tettsted2016/Tettsted2016.shp'",
     "output_type": "error",
     "traceback": [
      "\u001b[1;31m---------------------------------------------------------------------------\u001b[0m",
      "\u001b[1;31mOSError\u001b[0m                                   Traceback (most recent call last)",
      "\u001b[1;32m<ipython-input-6-efb974389789>\u001b[0m in \u001b[0;36m<module>\u001b[1;34m()\u001b[0m\n\u001b[0;32m      1\u001b[0m \u001b[1;31m# Les inn tettsted i geodata-frame\u001b[0m\u001b[1;33m\u001b[0m\u001b[1;33m\u001b[0m\u001b[0m\n\u001b[1;32m----> 2\u001b[1;33m \u001b[0mtettsted\u001b[0m \u001b[1;33m=\u001b[0m \u001b[0mgpd\u001b[0m\u001b[1;33m.\u001b[0m\u001b[0mread_file\u001b[0m\u001b[1;33m(\u001b[0m \u001b[1;34m'Tettsted2016/Tettsted2016.shp'\u001b[0m\u001b[1;33m)\u001b[0m\u001b[1;33m\u001b[0m\u001b[0m\n\u001b[0m\u001b[0;32m      3\u001b[0m \u001b[1;33m\u001b[0m\u001b[0m\n\u001b[0;32m      4\u001b[0m \u001b[1;31m# Hvilke egenskaper (kolonner) har vi?\u001b[0m\u001b[1;33m\u001b[0m\u001b[1;33m\u001b[0m\u001b[0m\n\u001b[0;32m      5\u001b[0m \u001b[0mtettsted\u001b[0m\u001b[1;33m.\u001b[0m\u001b[0mcolumns\u001b[0m\u001b[1;33m\u001b[0m\u001b[0m\n",
      "\u001b[1;32mC:\\Users\\atlsve.NORKART\\AppData\\Local\\Continuum\\anaconda2\\envs\\geomatikkdagene18\\lib\\site-packages\\geopandas\\io\\file.py\u001b[0m in \u001b[0;36mread_file\u001b[1;34m(filename, **kwargs)\u001b[0m\n\u001b[0;32m     19\u001b[0m     \"\"\"\n\u001b[0;32m     20\u001b[0m     \u001b[0mbbox\u001b[0m \u001b[1;33m=\u001b[0m \u001b[0mkwargs\u001b[0m\u001b[1;33m.\u001b[0m\u001b[0mpop\u001b[0m\u001b[1;33m(\u001b[0m\u001b[1;34m'bbox'\u001b[0m\u001b[1;33m,\u001b[0m \u001b[1;32mNone\u001b[0m\u001b[1;33m)\u001b[0m\u001b[1;33m\u001b[0m\u001b[0m\n\u001b[1;32m---> 21\u001b[1;33m     \u001b[1;32mwith\u001b[0m \u001b[0mfiona\u001b[0m\u001b[1;33m.\u001b[0m\u001b[0mopen\u001b[0m\u001b[1;33m(\u001b[0m\u001b[0mfilename\u001b[0m\u001b[1;33m,\u001b[0m \u001b[1;33m**\u001b[0m\u001b[0mkwargs\u001b[0m\u001b[1;33m)\u001b[0m \u001b[1;32mas\u001b[0m \u001b[0mf\u001b[0m\u001b[1;33m:\u001b[0m\u001b[1;33m\u001b[0m\u001b[0m\n\u001b[0m\u001b[0;32m     22\u001b[0m         \u001b[0mcrs\u001b[0m \u001b[1;33m=\u001b[0m \u001b[0mf\u001b[0m\u001b[1;33m.\u001b[0m\u001b[0mcrs\u001b[0m\u001b[1;33m\u001b[0m\u001b[0m\n\u001b[0;32m     23\u001b[0m         \u001b[1;32mif\u001b[0m \u001b[0mbbox\u001b[0m \u001b[1;32mis\u001b[0m \u001b[1;32mnot\u001b[0m \u001b[1;32mNone\u001b[0m\u001b[1;33m:\u001b[0m\u001b[1;33m\u001b[0m\u001b[0m\n",
      "\u001b[1;32mC:\\Users\\atlsve.NORKART\\AppData\\Local\\Continuum\\anaconda2\\envs\\geomatikkdagene18\\lib\\site-packages\\fiona\\__init__.py\u001b[0m in \u001b[0;36mopen\u001b[1;34m(path, mode, driver, schema, crs, encoding, layer, vfs, enabled_drivers, crs_wkt)\u001b[0m\n\u001b[0;32m    163\u001b[0m                 \u001b[1;32mraise\u001b[0m \u001b[0mIOError\u001b[0m\u001b[1;33m(\u001b[0m\u001b[1;34m\"no such archive file: %r\"\u001b[0m \u001b[1;33m%\u001b[0m \u001b[0marchive\u001b[0m\u001b[1;33m)\u001b[0m\u001b[1;33m\u001b[0m\u001b[0m\n\u001b[0;32m    164\u001b[0m         \u001b[1;32melif\u001b[0m \u001b[0mpath\u001b[0m \u001b[1;33m!=\u001b[0m \u001b[1;34m'-'\u001b[0m \u001b[1;32mand\u001b[0m \u001b[1;32mnot\u001b[0m \u001b[0mos\u001b[0m\u001b[1;33m.\u001b[0m\u001b[0mpath\u001b[0m\u001b[1;33m.\u001b[0m\u001b[0mexists\u001b[0m\u001b[1;33m(\u001b[0m\u001b[0mpath\u001b[0m\u001b[1;33m)\u001b[0m\u001b[1;33m:\u001b[0m\u001b[1;33m\u001b[0m\u001b[0m\n\u001b[1;32m--> 165\u001b[1;33m             \u001b[1;32mraise\u001b[0m \u001b[0mIOError\u001b[0m\u001b[1;33m(\u001b[0m\u001b[1;34m\"no such file or directory: %r\"\u001b[0m \u001b[1;33m%\u001b[0m \u001b[0mpath\u001b[0m\u001b[1;33m)\u001b[0m\u001b[1;33m\u001b[0m\u001b[0m\n\u001b[0m\u001b[0;32m    166\u001b[0m         c = Collection(path, mode, driver=driver, encoding=encoding,\n\u001b[0;32m    167\u001b[0m                        \u001b[0mlayer\u001b[0m\u001b[1;33m=\u001b[0m\u001b[0mlayer\u001b[0m\u001b[1;33m,\u001b[0m \u001b[0mvsi\u001b[0m\u001b[1;33m=\u001b[0m\u001b[0mvsi\u001b[0m\u001b[1;33m,\u001b[0m \u001b[0marchive\u001b[0m\u001b[1;33m=\u001b[0m\u001b[0marchive\u001b[0m\u001b[1;33m,\u001b[0m\u001b[1;33m\u001b[0m\u001b[0m\n",
      "\u001b[1;31mOSError\u001b[0m: no such file or directory: 'Tettsted2016/Tettsted2016.shp'"
     ]
    }
   ],
   "source": [
    "# Les inn tettsted i geodata-frame\n",
    "tettsted = gpd.read_file( './data/Tettsted2016.shp')\n",
    "\n",
    "# Hvilke egenskaper (kolonner) har vi? \n",
    "tettsted.columns"
   ]
  },
  {
   "cell_type": "code",
   "execution_count": null,
   "metadata": {},
   "outputs": [],
   "source": [
    "tettsted.describe()"
   ]
  },
  {
   "cell_type": "markdown",
   "metadata": {},
   "source": [
    "Bortsett fra kolonnen _geometry_ så er dette en vanlig pandas dataframe. \n",
    "\n",
    "La oss kna litt mer. Hva er f.eks. forholdet mellom areal og folketall? La oss plotte det"
   ]
  },
  {
   "cell_type": "code",
   "execution_count": null,
   "metadata": {},
   "outputs": [],
   "source": [
    "fig2, ax2 = plt.subplots()\n",
    "ax2.set_title( \"Areal vs folketall, tettsted\")\n",
    "ax2.set_xlabel( 'Areal (km^2)')\n",
    "ax2.set_ylabel( 'Folketall')\n",
    "ax2.plot( tettsted.Areal_km2, tettsted.Tot_Bef, '.g' );\n",
    "fig2.tight_layout();"
   ]
  },
  {
   "cell_type": "markdown",
   "metadata": {},
   "source": [
    "Interessant.La oss se på hva som særpreger tettsteder større enn 50 km${}^2$. "
   ]
  },
  {
   "cell_type": "code",
   "execution_count": null,
   "metadata": {},
   "outputs": [],
   "source": [
    "tettsted[ tettsted.Areal_km2 > 50].sort_values('Areal_km2', ascending=False )"
   ]
  },
  {
   "cell_type": "markdown",
   "metadata": {},
   "source": [
    "Dette er storbyene våre. Hvem er de minste tettstedene? "
   ]
  },
  {
   "cell_type": "code",
   "execution_count": null,
   "metadata": {},
   "outputs": [],
   "source": [
    "tettsted.sort_values('Areal_km2' ).head()"
   ]
  },
  {
   "cell_type": "markdown",
   "metadata": {},
   "source": [
    "# Les data fra Nasjonal vegdatabank"
   ]
  },
  {
   "cell_type": "code",
   "execution_count": null,
   "metadata": {
    "collapsed": true
   },
   "outputs": [],
   "source": [
    "turistveger = nvdbapi.nvdbFagdata(777)\n",
    "turistveger_geojson = nvdb2geojson.fagdata2geojson( turistveger)\n",
    "turist2 = gpd.GeoDataFrame.from_features( turistveger_geojson['features'])"
   ]
  },
  {
   "cell_type": "markdown",
   "metadata": {},
   "source": [
    "# Finn turistveger i tettsteder \n",
    "\n",
    "http://geopandas.org/mergingdata.html , spatial joins. Først må vi sette \n",
    "koordinatsystem. Merk at du bygger koordinatsystem i geopandas med linje kode. \n",
    "http://geopandas.org/projections.html#re-projecting \n",
    "\n"
   ]
  },
  {
   "cell_type": "code",
   "execution_count": null,
   "metadata": {},
   "outputs": [],
   "source": [
    "tettsted.crs = {'init': 'epsg:25833'}\n",
    "turist2.crs = {'init': 'epsg:25833'}\n",
    "\n",
    "turist_i_tettsted = gpd.sjoin( turist2, tettsted, how='inner', op='intersects')\n",
    "tettsted_m_turist = gpd.sjoin( tettsted, turist2, how='inner', op='intersects')\n"
   ]
  },
  {
   "cell_type": "markdown",
   "metadata": {},
   "source": [
    "_Hvis du her får en kryptisk **RuntimeWarning**- advarsel over så kan du trygt ignorere det. Eldre versjoner av programvaren gir divisjon med 0 når vi ikke får treff på \"join\" - operasjonen._ Gjelder f.eks. min windows anaconda-installasjon, men ikke linux. \n",
    "\n",
    "La oss sjekke hvor mange vi fant: "
   ]
  },
  {
   "cell_type": "code",
   "execution_count": null,
   "metadata": {},
   "outputs": [],
   "source": [
    "print( \"Antall segmenter med turistveger\", len( turist2))\n",
    "print( \"Antall tettsteder\", len(tettsted))\n",
    "print( \"Tettsteder med turistveger\", len(tettsted_m_turist), \"Med  DUPLIKATER?\")\n",
    "print( \"Turistveger som går gjennom tettsteder\", len(turist_i_tettsted))"
   ]
  },
  {
   "cell_type": "markdown",
   "metadata": {},
   "source": [
    "Våre 17 turistveger er splittet opp i 527 korte segmenter - og overgangen mellom segmentene er ofte i vegkryss, dvs vi har typisk mer enn ett turistveg-segment per tettsted. Det gir duplikater som må fjernes fra datasettet _tettsteder med turistveger_"
   ]
  },
  {
   "cell_type": "code",
   "execution_count": null,
   "metadata": {},
   "outputs": [],
   "source": [
    "tettsted_m_turist.drop_duplicates( subset='TETTNR', inplace=True)\n",
    "print( \"Tettsteder med turistveger\", len(tettsted_m_turist), \"UTEN duplikater\")"
   ]
  },
  {
   "cell_type": "markdown",
   "metadata": {},
   "source": [
    "# Finner trafikkulykker på turistveger\n",
    "\n",
    "Bruker NVDB api's overlappfilter https://www.vegvesen.no/nvdb/apidokumentasjon/#/parameter/overlappfilter \n"
   ]
  },
  {
   "cell_type": "code",
   "execution_count": null,
   "metadata": {},
   "outputs": [],
   "source": [
    "ulykker = nvdbapi.nvdbFagdata( 570)\n",
    "ulykker.addfilter_overlapp( '777'  )\n",
    "print( 'Antall ulykker på turistveger', ulykker.statistikk()) "
   ]
  },
  {
   "cell_type": "markdown",
   "metadata": {},
   "source": [
    "### Gjør om ulykkene til geodataframe\n",
    "\n",
    "Vi gjør om data fra NVDB api til geojson-objekter, som så leses direkte inn i geopdandas-dataFrame. "
   ]
  },
  {
   "cell_type": "code",
   "execution_count": null,
   "metadata": {
    "collapsed": true
   },
   "outputs": [],
   "source": [
    "ulykker_geojson = nvdb2geojson.fagdata2geojson( ulykker)\n",
    "ulykker_gpd = gpd.GeoDataFrame.from_features( ulykker_geojson['features']);"
   ]
  },
  {
   "cell_type": "markdown",
   "metadata": {},
   "source": [
    "### Hvor mange av disse trafikkulykkene er i tettsteder? "
   ]
  },
  {
   "cell_type": "code",
   "execution_count": null,
   "metadata": {},
   "outputs": [],
   "source": [
    "ulykker_gpd.crs = {'init': 'epsg:25833'}\n",
    "# Spatial join gir kolonnene 'index_right' og 'index_left'. Disse må slettes eller døpes om \n",
    "# før resultatet fra spatial join brukes i nye joins\n",
    "tettsted_m_turist.rename( columns={ 'index_right' : 'tettsted_m_turist_indeks_right'}, inplace=True)\n",
    "ulykker_i_tettsted = gpd.sjoin( ulykker_gpd, tettsted_m_turist, how='inner', op='intersects')\n",
    "print( len(ulykker_i_tettsted), \"ulykker på turistveger gjennom tettsteder\") "
   ]
  },
  {
   "cell_type": "markdown",
   "metadata": {},
   "source": [
    "#### Hvor mange tettsteder med turistveger har trafikkulykker? "
   ]
  },
  {
   "cell_type": "code",
   "execution_count": null,
   "metadata": {},
   "outputs": [],
   "source": [
    "tettsted_m_turistveg_ulykker = gpd.sjoin( tettsted_m_turist, ulykker_gpd, \n",
    "                                         how='inner', op='intersects' ) \n",
    "\n",
    "# Fjerner duplikater\n",
    "tettsted_m_turistveg_ulykker.drop_duplicates( subset='TETTNR', inplace=True)\n",
    "\n",
    "print( len(tettsted_m_turistveg_ulykker), \"tettsteder har turistveger med ulykker\")"
   ]
  },
  {
   "cell_type": "markdown",
   "metadata": {},
   "source": [
    "#### Alvorligste skadegrad?"
   ]
  },
  {
   "cell_type": "code",
   "execution_count": null,
   "metadata": {},
   "outputs": [],
   "source": [
    "ulykker_i_tettsted['Alvorligste skadegrad'].value_counts()"
   ]
  },
  {
   "cell_type": "markdown",
   "metadata": {},
   "source": [
    "#### Vi plotter litt\n",
    "\n",
    "La oss plotte tettstedet Granvin (gul flate) med turistveg (blå linje) og \n",
    "trafikkulykker (røde prikker)"
   ]
  },
  {
   "cell_type": "code",
   "execution_count": null,
   "metadata": {},
   "outputs": [],
   "source": [
    "vistettsted = 'Granvin'\n",
    "fig1, ax1 = plt.subplots()\n",
    "\n",
    "ax1.set_title( \"Ulykker på turistveg, \" + vistettsted)\n",
    "ax1.set_ylabel( 'Nord utm33-meter')\n",
    "ax1.set_xlabel( 'Øst utm33-meter')\n",
    "ax1.set_aspect('equal')\n",
    "\n",
    "tettsted_m_turistveg_ulykker[ tettsted_m_turistveg_ulykker.Tettstedsn == \n",
    "        vistettsted ].geometry.plot( ax=ax1, color='y', edgecolor='g')\n",
    "\n",
    "turist_i_tettsted[ turist_i_tettsted.Tettstedsn == \n",
    "                  vistettsted].geometry.plot( ax=ax1, color='b');\n",
    "\n",
    "ulykker_i_tettsted[ ulykker_i_tettsted.Tettstedsn == \n",
    "                vistettsted].geometry.plot( ax=ax1, color='r', markersize = 10);\n"
   ]
  },
  {
   "cell_type": "markdown",
   "metadata": {},
   "source": [
    "La oss granske detaljene for ulykkene i Granvin. \n",
    "\n",
    "Vi har ganske mange egenskapsverdier (totalt 78 kolonner). Med horisontal scrolling får vi vist alle hvis vi insisterer. "
   ]
  },
  {
   "cell_type": "code",
   "execution_count": null,
   "metadata": {},
   "outputs": [],
   "source": [
    "pd.options.display.max_columns = 100\n",
    "ulykker_i_tettsted[ ulykker_i_tettsted.Tettstedsn == vistettsted]"
   ]
  },
  {
   "cell_type": "markdown",
   "metadata": {},
   "source": [
    "#### Dumper tettsted-ulykkene til geojson\n",
    "\n",
    "Geojson er per definisjon lengde/breddegrad, så da må vi reprojisere. http://geopandas.org/projections.html#re-projecting "
   ]
  },
  {
   "cell_type": "code",
   "execution_count": null,
   "metadata": {},
   "outputs": [],
   "source": [
    "datadump = ulykker_i_tettsted.to_crs( { 'init' : 'epsg:4326' } )\n",
    "\n",
    "with open('ulykker_i_tettsted.geojson', 'w') as f:\n",
    "    f.write(datadump.to_json())\n",
    "    \n",
    "print( \"Datadump CRS\", datadump.crs, \"ulykker CRS\", ulykker_i_tettsted.crs)"
   ]
  }
 ],
 "metadata": {
  "anaconda-cloud": {},
  "kernelspec": {
   "display_name": "Python [conda env:geomatikkdagene18]",
   "language": "python",
   "name": "conda-env-geomatikkdagene18-py"
  },
  "language_info": {
   "codemirror_mode": {
    "name": "ipython",
    "version": 3
   },
   "file_extension": ".py",
   "mimetype": "text/x-python",
   "name": "python",
   "nbconvert_exporter": "python",
   "pygments_lexer": "ipython3",
   "version": "3.4.5"
  }
 },
 "nbformat": 4,
 "nbformat_minor": 2
}
