{
 "cells": [
  {
   "cell_type": "markdown",
   "metadata": {},
   "source": [
    "## Les bryggeridata"
   ]
  },
  {
   "cell_type": "code",
   "execution_count": 34,
   "metadata": {},
   "outputs": [],
   "source": [
    "import json\n",
    "import shapely\n",
    "from shapely.geometry import asShape, shape\n",
    "import geopandas as gpd\n"
   ]
  },
  {
   "cell_type": "code",
   "execution_count": 35,
   "metadata": {},
   "outputs": [],
   "source": [
    "#funksjoner for å fikse opp dataene\n",
    "\n",
    "#oversett alt annet enn punkt til punkt\n",
    "def to_point(row):\n",
    "    if row['geometry'].geom_type == 'Point':\n",
    "        return row['geometry']\n",
    "    return row['geometry'].centroid\n",
    "\n",
    "#set operator-taggen\n",
    "def fix_operator(row):\n",
    "    if row['operator'] is None:\n",
    "        return row['name']\n",
    "    return row['operator']"
   ]
  },
  {
   "cell_type": "code",
   "execution_count": 36,
   "metadata": {},
   "outputs": [],
   "source": [
    "# les inn bryggeriene fra en geojson-fil\n",
    "bryggerier = gpd.read_file('./data/osm_breweries_norway_08032018.geojson')\n",
    "\n",
    "#fiks opp kolonner\n",
    "bryggerier['geometry'] = bryggerier.apply(to_point, axis=1)\n",
    "bryggerier['operator'] = bryggerier.apply(fix_operator, axis=1)\n",
    "\n",
    "# velg ut de kolonnene vi faktisk e\n",
    "bryggerier = df[['name', 'operator', 'geometry']]\n"
   ]
  },
  {
   "cell_type": "code",
   "execution_count": 37,
   "metadata": {},
   "outputs": [
    {
     "data": {
      "text/html": [
       "<div>\n",
       "<style scoped>\n",
       "    .dataframe tbody tr th:only-of-type {\n",
       "        vertical-align: middle;\n",
       "    }\n",
       "\n",
       "    .dataframe tbody tr th {\n",
       "        vertical-align: top;\n",
       "    }\n",
       "\n",
       "    .dataframe thead th {\n",
       "        text-align: right;\n",
       "    }\n",
       "</style>\n",
       "<table border=\"1\" class=\"dataframe\">\n",
       "  <thead>\n",
       "    <tr style=\"text-align: right;\">\n",
       "      <th></th>\n",
       "      <th>name</th>\n",
       "      <th>operator</th>\n",
       "      <th>geometry</th>\n",
       "    </tr>\n",
       "  </thead>\n",
       "  <tbody>\n",
       "    <tr>\n",
       "      <th>count</th>\n",
       "      <td>138</td>\n",
       "      <td>138</td>\n",
       "      <td>138</td>\n",
       "    </tr>\n",
       "    <tr>\n",
       "      <th>unique</th>\n",
       "      <td>138</td>\n",
       "      <td>136</td>\n",
       "      <td>138</td>\n",
       "    </tr>\n",
       "    <tr>\n",
       "      <th>top</th>\n",
       "      <td>Lindheim Ølkompani</td>\n",
       "      <td>Ringnes Bryggeri</td>\n",
       "      <td>POINT (9.549970999999999 59.1396178)</td>\n",
       "    </tr>\n",
       "    <tr>\n",
       "      <th>freq</th>\n",
       "      <td>1</td>\n",
       "      <td>2</td>\n",
       "      <td>1</td>\n",
       "    </tr>\n",
       "  </tbody>\n",
       "</table>\n",
       "</div>"
      ],
      "text/plain": [
       "                      name          operator  \\\n",
       "count                  138               138   \n",
       "unique                 138               136   \n",
       "top     Lindheim Ølkompani  Ringnes Bryggeri   \n",
       "freq                     1                 2   \n",
       "\n",
       "                                    geometry  \n",
       "count                                    138  \n",
       "unique                                   138  \n",
       "top     POINT (9.549970999999999 59.1396178)  \n",
       "freq                                       1  "
      ]
     },
     "execution_count": 37,
     "metadata": {},
     "output_type": "execute_result"
    }
   ],
   "source": [
    "bryggerier.describe()"
   ]
  }
 ],
 "metadata": {
  "anaconda-cloud": {},
  "kernelspec": {
   "display_name": "Python [conda env:gd18]",
   "language": "python",
   "name": "conda-env-gd18-py"
  },
  "language_info": {
   "codemirror_mode": {
    "name": "ipython",
    "version": 2
   },
   "file_extension": ".py",
   "mimetype": "text/x-python",
   "name": "python",
   "nbconvert_exporter": "python",
   "pygments_lexer": "ipython2",
   "version": "2.7.14"
  }
 },
 "nbformat": 4,
 "nbformat_minor": 2
}
