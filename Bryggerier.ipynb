{
 "cells": [
  {
   "cell_type": "markdown",
   "metadata": {},
   "source": [
    "## Les bryggeridata"
   ]
  },
  {
   "cell_type": "code",
   "execution_count": 1,
   "metadata": {
    "collapsed": true
   },
   "outputs": [],
   "source": [
    "import geopandas as gpd"
   ]
  },
  {
   "cell_type": "code",
   "execution_count": 2,
   "metadata": {
    "collapsed": true
   },
   "outputs": [],
   "source": [
    "#funksjoner for å fikse opp dataene\n",
    "\n",
    "#oversett alt annet enn punkt til punkt\n",
    "def to_point(row):\n",
    "    if row['geometry'].geom_type == 'Point':\n",
    "        return row['geometry']\n",
    "    return row['geometry'].centroid\n",
    "\n",
    "#set operator-taggen\n",
    "def fix_operator(row):\n",
    "    if row['operator'] is None:\n",
    "        return row['name']\n",
    "    return row['operator']"
   ]
  },
  {
   "cell_type": "code",
   "execution_count": 3,
   "metadata": {
    "collapsed": true
   },
   "outputs": [],
   "source": [
    "# les inn bryggeriene fra en geojson-fil\n",
    "bryggerier = gpd.read_file('./data/osm_breweries_norway_08032018.geojson')\n",
    "\n",
    "#fiks opp kolonner\n",
    "bryggerier['geometry'] = bryggerier.apply(to_point, axis=1)\n",
    "bryggerier['operator'] = bryggerier.apply(fix_operator, axis=1)\n",
    "\n",
    "# velg ut de kolonnene vi faktisk e\n",
    "bryggerier = bryggerier[['name', 'operator', 'geometry']]\n"
   ]
  },
  {
   "cell_type": "code",
   "execution_count": 4,
   "metadata": {},
   "outputs": [
    {
     "data": {
      "text/html": [
       "<div>\n",
       "<table border=\"1\" class=\"dataframe\">\n",
       "  <thead>\n",
       "    <tr style=\"text-align: right;\">\n",
       "      <th></th>\n",
       "      <th>name</th>\n",
       "      <th>operator</th>\n",
       "      <th>geometry</th>\n",
       "    </tr>\n",
       "  </thead>\n",
       "  <tbody>\n",
       "    <tr>\n",
       "      <th>0</th>\n",
       "      <td>Lervig Aktiebryggeri</td>\n",
       "      <td>Lervig Aktiebryggeri</td>\n",
       "      <td>POINT (5.746142767034293 58.94570846949821)</td>\n",
       "    </tr>\n",
       "    <tr>\n",
       "      <th>1</th>\n",
       "      <td>Ringnes Bryggeri</td>\n",
       "      <td>Ringnes Bryggeri</td>\n",
       "      <td>POINT (10.93189032774258 59.99209675567997)</td>\n",
       "    </tr>\n",
       "    <tr>\n",
       "      <th>2</th>\n",
       "      <td>Borg Bryggerier</td>\n",
       "      <td>Hansa Borg</td>\n",
       "      <td>POINT (11.11239512048502 59.29057490401918)</td>\n",
       "    </tr>\n",
       "    <tr>\n",
       "      <th>3</th>\n",
       "      <td>Haandbryggeriet</td>\n",
       "      <td>Haandbryggeriet</td>\n",
       "      <td>POINT (10.23138505977879 59.74216480250969)</td>\n",
       "    </tr>\n",
       "    <tr>\n",
       "      <th>4</th>\n",
       "      <td>E. C. Dahls Bryggeri</td>\n",
       "      <td>Ringnes Bryggeri</td>\n",
       "      <td>POINT (10.42700137022198 63.44091298857254)</td>\n",
       "    </tr>\n",
       "  </tbody>\n",
       "</table>\n",
       "</div>"
      ],
      "text/plain": [
       "                   name              operator  \\\n",
       "0  Lervig Aktiebryggeri  Lervig Aktiebryggeri   \n",
       "1      Ringnes Bryggeri      Ringnes Bryggeri   \n",
       "2       Borg Bryggerier            Hansa Borg   \n",
       "3       Haandbryggeriet       Haandbryggeriet   \n",
       "4  E. C. Dahls Bryggeri      Ringnes Bryggeri   \n",
       "\n",
       "                                      geometry  \n",
       "0  POINT (5.746142767034293 58.94570846949821)  \n",
       "1  POINT (10.93189032774258 59.99209675567997)  \n",
       "2  POINT (11.11239512048502 59.29057490401918)  \n",
       "3  POINT (10.23138505977879 59.74216480250969)  \n",
       "4  POINT (10.42700137022198 63.44091298857254)  "
      ]
     },
     "execution_count": 4,
     "metadata": {},
     "output_type": "execute_result"
    }
   ],
   "source": [
    "bryggerier.head()"
   ]
  },
  {
   "cell_type": "code",
   "execution_count": null,
   "metadata": {
    "collapsed": true
   },
   "outputs": [],
   "source": []
  }
 ],
 "metadata": {
  "anaconda-cloud": {},
  "kernelspec": {
   "display_name": "Python [conda env:geomatikkdagene18]",
   "language": "python",
   "name": "conda-env-geomatikkdagene18-py"
  },
  "language_info": {
   "codemirror_mode": {
    "name": "ipython",
    "version": 3
   },
   "file_extension": ".py",
   "mimetype": "text/x-python",
   "name": "python",
   "nbconvert_exporter": "python",
   "pygments_lexer": "ipython3",
   "version": "3.4.5"
  }
 },
 "nbformat": 4,
 "nbformat_minor": 2
}
