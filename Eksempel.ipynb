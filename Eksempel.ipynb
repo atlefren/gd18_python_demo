{
 "cells": [
  {
   "cell_type": "markdown",
   "metadata": {},
   "source": [
    "## Les bryggeridata"
   ]
  },
  {
   "cell_type": "code",
   "execution_count": 1,
   "metadata": {},
   "outputs": [],
   "source": [
    "import geopandas as gpd"
   ]
  },
  {
   "cell_type": "code",
   "execution_count": 2,
   "metadata": {
    "collapsed": true
   },
   "outputs": [],
   "source": [
    "#funksjoner for å fikse opp dataene\n",
    "\n",
    "#oversett alt annet enn punkt til punkt\n",
    "def to_point(row):\n",
    "    if row['geometry'].geom_type == 'Point':\n",
    "        return row['geometry']\n",
    "    return row['geometry'].centroid\n",
    "\n",
    "#set operator-taggen\n",
    "def fix_operator(row):\n",
    "    if row['operator'] is None:\n",
    "        return row['name']\n",
    "    return row['operator']"
   ]
  },
  {
   "cell_type": "code",
   "execution_count": 3,
   "metadata": {
    "collapsed": true
   },
   "outputs": [],
   "source": [
    "# les inn bryggeriene fra en geojson-fil\n",
    "bryggerier = gpd.read_file('./data/osm_breweries_norway_08032018.geojson')\n",
    "\n",
    "#fiks opp kolonner\n",
    "bryggerier['geometry'] = bryggerier.apply(to_point, axis=1)\n",
    "bryggerier['operator'] = bryggerier.apply(fix_operator, axis=1)\n",
    "\n",
    "# velg ut de kolonnene vi faktisk e\n",
    "bryggerier = bryggerier[['name', 'operator', 'geometry']]\n"
   ]
  },
  {
   "cell_type": "code",
   "execution_count": 4,
   "metadata": {},
   "outputs": [
    {
     "name": "stdout",
     "output_type": "stream",
     "text": [
      "{'init': 'epsg:4326'}\n"
     ]
    }
   ],
   "source": [
    "bryggerier.head()\n",
    "print(bryggerier.crs)"
   ]
  },
  {
   "cell_type": "markdown",
   "metadata": {},
   "source": [
    "## Les senmtrumsområder"
   ]
  },
  {
   "cell_type": "code",
   "execution_count": 6,
   "metadata": {},
   "outputs": [],
   "source": [
    "sentrumsomr = gpd.read_file( './data/SSBsentrumsoner2017shp/sentrum2017_web.shp')\n"
   ]
  },
  {
   "cell_type": "code",
   "execution_count": 7,
   "metadata": {},
   "outputs": [
    {
     "name": "stdout",
     "output_type": "stream",
     "text": [
      "           AREAL      DATO KOMMUNENR    KommunNavn MALEMETODE NOYAKTIGHE  \\\n",
      "0   28274.848554  20170101      1002        Mandal         70       3000   \n",
      "1  114003.195302  20170101      1002        Mandal         70       3000   \n",
      "2   39939.220036  20170101      1018         Søgne         70       3000   \n",
      "3   51666.211013  20170101      1029     Lindesnes         70       3000   \n",
      "4    6895.065135  20170101      1001  Kristiansand         70       3000   \n",
      "\n",
      "       OBJTYPE OPPHAV TETTNR    TETTSTEDSN Tsted     ajour  \\\n",
      "0  SENTRUMSSON    SSB   4011        Mandal  4011  01012017   \n",
      "1  SENTRUMSSON    SSB   4011        Mandal  4011  01012017   \n",
      "2  SENTRUMSSON    SSB   4061         Søgne  4061  01012017   \n",
      "3  SENTRUMSSON    SSB   4082      Vigeland  4082  01012017   \n",
      "4  SENTRUMSSON    SSB   4002  Kristiansand  4002  01012017   \n",
      "\n",
      "                                            geometry hoveds kommnr verifiseri  \n",
      "0  POLYGON ((54696.6557 6456361.2817, 54696.68230...      A   1002   01012017  \n",
      "1  POLYGON ((55392.33430000022 6456934.5338, 5539...      H   1002   01012017  \n",
      "2  POLYGON ((77114.97609999962 6462147.3979, 7711...      H   1018   01012017  \n",
      "3  POLYGON ((46828.82789999992 6464156.9574, 4682...      H   1029   01012017  \n",
      "4  POLYGON ((85791.98570000008 6464255.2468, 8579...      A   1001   01012017  \n",
      "{'init': 'epsg:32633'}\n"
     ]
    }
   ],
   "source": [
    "#skriv ut (dette tar tid)\n",
    "print (sentrumsomr.head())\n",
    "print(sentrumsomr.crs)"
   ]
  },
  {
   "cell_type": "code",
   "execution_count": null,
   "metadata": {
    "collapsed": true
   },
   "outputs": [],
   "source": []
  }
 ],
 "metadata": {
  "anaconda-cloud": {},
  "kernelspec": {
   "display_name": "Python [default]",
   "language": "python",
   "name": "python3"
  },
  "language_info": {
   "codemirror_mode": {
    "name": "ipython",
    "version": 3
   },
   "file_extension": ".py",
   "mimetype": "text/x-python",
   "name": "python",
   "nbconvert_exporter": "python",
   "pygments_lexer": "ipython3",
   "version": "3.4.5"
  }
 },
 "nbformat": 4,
 "nbformat_minor": 2
}
